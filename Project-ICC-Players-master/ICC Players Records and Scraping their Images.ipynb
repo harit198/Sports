{
 "cells": [
  {
   "cell_type": "code",
   "execution_count": 6,
   "metadata": {},
   "outputs": [],
   "source": [
    "import pandas as pd #for data analysis and manipulation\n",
    "import numpy as np  #to handle arrays\n",
    "import re #for advanced string manipulation"
   ]
  },
  {
   "cell_type": "code",
   "execution_count": 10,
   "metadata": {},
   "outputs": [],
   "source": [
    "#loading data\n",
    "df=pd.read_excel(\"ICC Test Bat 3001.xlsx\")"
   ]
  },
  {
   "cell_type": "code",
   "execution_count": 27,
   "metadata": {},
   "outputs": [],
   "source": [
    "#creating a copy \n",
    "df_copy=df.copy()"
   ]
  },
  {
   "cell_type": "code",
   "execution_count": 11,
   "metadata": {},
   "outputs": [
    {
     "data": {
      "text/html": [
       "<div>\n",
       "<style scoped>\n",
       "    .dataframe tbody tr th:only-of-type {\n",
       "        vertical-align: middle;\n",
       "    }\n",
       "\n",
       "    .dataframe tbody tr th {\n",
       "        vertical-align: top;\n",
       "    }\n",
       "\n",
       "    .dataframe thead th {\n",
       "        text-align: right;\n",
       "    }\n",
       "</style>\n",
       "<table border=\"1\" class=\"dataframe\">\n",
       "  <thead>\n",
       "    <tr style=\"text-align: right;\">\n",
       "      <th></th>\n",
       "      <th>Player</th>\n",
       "      <th>Span</th>\n",
       "      <th>Mat</th>\n",
       "      <th>Inn</th>\n",
       "      <th>NO</th>\n",
       "      <th>Runs</th>\n",
       "      <th>HS</th>\n",
       "      <th>Avg</th>\n",
       "      <th>100</th>\n",
       "      <th>50</th>\n",
       "      <th>0</th>\n",
       "      <th>Player Profile</th>\n",
       "    </tr>\n",
       "  </thead>\n",
       "  <tbody>\n",
       "    <tr>\n",
       "      <td>0</td>\n",
       "      <td>SR Tendulkar (INDIA)</td>\n",
       "      <td>1989-2013</td>\n",
       "      <td>200</td>\n",
       "      <td>329</td>\n",
       "      <td>33</td>\n",
       "      <td>15921</td>\n",
       "      <td>248*</td>\n",
       "      <td>53.78</td>\n",
       "      <td>51</td>\n",
       "      <td>68</td>\n",
       "      <td>14</td>\n",
       "      <td>http://stats.espncricinfo.com/ci/content/playe...</td>\n",
       "    </tr>\n",
       "    <tr>\n",
       "      <td>1</td>\n",
       "      <td>RT Ponting (AUS)</td>\n",
       "      <td>1995-2012</td>\n",
       "      <td>168</td>\n",
       "      <td>287</td>\n",
       "      <td>29</td>\n",
       "      <td>13378</td>\n",
       "      <td>257</td>\n",
       "      <td>51.85</td>\n",
       "      <td>41</td>\n",
       "      <td>62</td>\n",
       "      <td>17</td>\n",
       "      <td>http://stats.espncricinfo.com/ci/content/playe...</td>\n",
       "    </tr>\n",
       "    <tr>\n",
       "      <td>2</td>\n",
       "      <td>JH Kallis (ICC/SA)</td>\n",
       "      <td>1995-2013</td>\n",
       "      <td>166</td>\n",
       "      <td>280</td>\n",
       "      <td>40</td>\n",
       "      <td>13289</td>\n",
       "      <td>224</td>\n",
       "      <td>55.37</td>\n",
       "      <td>45</td>\n",
       "      <td>58</td>\n",
       "      <td>16</td>\n",
       "      <td>http://stats.espncricinfo.com/ci/content/playe...</td>\n",
       "    </tr>\n",
       "    <tr>\n",
       "      <td>3</td>\n",
       "      <td>R Dravid (ICC/INDIA)</td>\n",
       "      <td>1996-2012</td>\n",
       "      <td>164</td>\n",
       "      <td>286</td>\n",
       "      <td>32</td>\n",
       "      <td>13288</td>\n",
       "      <td>270</td>\n",
       "      <td>52.31</td>\n",
       "      <td>36</td>\n",
       "      <td>63</td>\n",
       "      <td>8</td>\n",
       "      <td>http://stats.espncricinfo.com/ci/content/playe...</td>\n",
       "    </tr>\n",
       "    <tr>\n",
       "      <td>4</td>\n",
       "      <td>AN Cook (ENG)</td>\n",
       "      <td>2006-2018</td>\n",
       "      <td>161</td>\n",
       "      <td>291</td>\n",
       "      <td>16</td>\n",
       "      <td>12472</td>\n",
       "      <td>294</td>\n",
       "      <td>45.35</td>\n",
       "      <td>33</td>\n",
       "      <td>57</td>\n",
       "      <td>9</td>\n",
       "      <td>http://stats.espncricinfo.com/ci/content/playe...</td>\n",
       "    </tr>\n",
       "  </tbody>\n",
       "</table>\n",
       "</div>"
      ],
      "text/plain": [
       "                 Player       Span  Mat  Inn  NO   Runs    HS    Avg 100  50  \\\n",
       "0  SR Tendulkar (INDIA)  1989-2013  200  329  33  15921  248*  53.78  51  68   \n",
       "1      RT Ponting (AUS)  1995-2012  168  287  29  13378   257  51.85  41  62   \n",
       "2    JH Kallis (ICC/SA)  1995-2013  166  280  40  13289   224  55.37  45  58   \n",
       "3  R Dravid (ICC/INDIA)  1996-2012  164  286  32  13288   270  52.31  36  63   \n",
       "4         AN Cook (ENG)  2006-2018  161  291  16  12472   294  45.35  33  57   \n",
       "\n",
       "    0                                     Player Profile  \n",
       "0  14  http://stats.espncricinfo.com/ci/content/playe...  \n",
       "1  17  http://stats.espncricinfo.com/ci/content/playe...  \n",
       "2  16  http://stats.espncricinfo.com/ci/content/playe...  \n",
       "3   8  http://stats.espncricinfo.com/ci/content/playe...  \n",
       "4   9  http://stats.espncricinfo.com/ci/content/playe...  "
      ]
     },
     "execution_count": 11,
     "metadata": {},
     "output_type": "execute_result"
    }
   ],
   "source": [
    "#having a look at dataset\n",
    "df.head()"
   ]
  },
  {
   "cell_type": "code",
   "execution_count": 5,
   "metadata": {},
   "outputs": [
    {
     "name": "stdout",
     "output_type": "stream",
     "text": [
      "<class 'pandas.core.frame.DataFrame'>\n",
      "RangeIndex: 3001 entries, 0 to 3000\n",
      "Data columns (total 12 columns):\n",
      "Player            3001 non-null object\n",
      "Span              3001 non-null object\n",
      "Mat               3001 non-null int64\n",
      "Inn               3001 non-null object\n",
      "NO                3001 non-null object\n",
      "Runs              3001 non-null object\n",
      "HS                3001 non-null object\n",
      "Avg               3001 non-null object\n",
      "100               3001 non-null object\n",
      "50                3001 non-null object\n",
      "0                 3001 non-null object\n",
      "Player Profile    3001 non-null object\n",
      "dtypes: int64(1), object(11)\n",
      "memory usage: 281.5+ KB\n"
     ]
    }
   ],
   "source": [
    "#checking the dtypes,rows,cols,nullvalues etc.\n",
    "df.info()"
   ]
  },
  {
   "cell_type": "code",
   "execution_count": 12,
   "metadata": {},
   "outputs": [],
   "source": [
    "#we have to remove the parenthesis and the data inside it as it can cause error while searching for player name\n",
    "\n",
    "df[\"Player\"]=df[\"Player\"].str.replace(r\"\\(.*\\)\",\"\")"
   ]
  },
  {
   "cell_type": "code",
   "execution_count": 13,
   "metadata": {},
   "outputs": [
    {
     "data": {
      "text/html": [
       "<div>\n",
       "<style scoped>\n",
       "    .dataframe tbody tr th:only-of-type {\n",
       "        vertical-align: middle;\n",
       "    }\n",
       "\n",
       "    .dataframe tbody tr th {\n",
       "        vertical-align: top;\n",
       "    }\n",
       "\n",
       "    .dataframe thead th {\n",
       "        text-align: right;\n",
       "    }\n",
       "</style>\n",
       "<table border=\"1\" class=\"dataframe\">\n",
       "  <thead>\n",
       "    <tr style=\"text-align: right;\">\n",
       "      <th></th>\n",
       "      <th>Player</th>\n",
       "      <th>Span</th>\n",
       "      <th>Mat</th>\n",
       "      <th>Inn</th>\n",
       "      <th>NO</th>\n",
       "      <th>Runs</th>\n",
       "      <th>HS</th>\n",
       "      <th>Avg</th>\n",
       "      <th>100</th>\n",
       "      <th>50</th>\n",
       "      <th>0</th>\n",
       "      <th>Player Profile</th>\n",
       "    </tr>\n",
       "  </thead>\n",
       "  <tbody>\n",
       "    <tr>\n",
       "      <td>0</td>\n",
       "      <td>SR Tendulkar</td>\n",
       "      <td>1989-2013</td>\n",
       "      <td>200</td>\n",
       "      <td>329</td>\n",
       "      <td>33</td>\n",
       "      <td>15921</td>\n",
       "      <td>248*</td>\n",
       "      <td>53.78</td>\n",
       "      <td>51</td>\n",
       "      <td>68</td>\n",
       "      <td>14</td>\n",
       "      <td>http://stats.espncricinfo.com/ci/content/playe...</td>\n",
       "    </tr>\n",
       "    <tr>\n",
       "      <td>1</td>\n",
       "      <td>RT Ponting</td>\n",
       "      <td>1995-2012</td>\n",
       "      <td>168</td>\n",
       "      <td>287</td>\n",
       "      <td>29</td>\n",
       "      <td>13378</td>\n",
       "      <td>257</td>\n",
       "      <td>51.85</td>\n",
       "      <td>41</td>\n",
       "      <td>62</td>\n",
       "      <td>17</td>\n",
       "      <td>http://stats.espncricinfo.com/ci/content/playe...</td>\n",
       "    </tr>\n",
       "    <tr>\n",
       "      <td>2</td>\n",
       "      <td>JH Kallis</td>\n",
       "      <td>1995-2013</td>\n",
       "      <td>166</td>\n",
       "      <td>280</td>\n",
       "      <td>40</td>\n",
       "      <td>13289</td>\n",
       "      <td>224</td>\n",
       "      <td>55.37</td>\n",
       "      <td>45</td>\n",
       "      <td>58</td>\n",
       "      <td>16</td>\n",
       "      <td>http://stats.espncricinfo.com/ci/content/playe...</td>\n",
       "    </tr>\n",
       "    <tr>\n",
       "      <td>3</td>\n",
       "      <td>R Dravid</td>\n",
       "      <td>1996-2012</td>\n",
       "      <td>164</td>\n",
       "      <td>286</td>\n",
       "      <td>32</td>\n",
       "      <td>13288</td>\n",
       "      <td>270</td>\n",
       "      <td>52.31</td>\n",
       "      <td>36</td>\n",
       "      <td>63</td>\n",
       "      <td>8</td>\n",
       "      <td>http://stats.espncricinfo.com/ci/content/playe...</td>\n",
       "    </tr>\n",
       "    <tr>\n",
       "      <td>4</td>\n",
       "      <td>AN Cook</td>\n",
       "      <td>2006-2018</td>\n",
       "      <td>161</td>\n",
       "      <td>291</td>\n",
       "      <td>16</td>\n",
       "      <td>12472</td>\n",
       "      <td>294</td>\n",
       "      <td>45.35</td>\n",
       "      <td>33</td>\n",
       "      <td>57</td>\n",
       "      <td>9</td>\n",
       "      <td>http://stats.espncricinfo.com/ci/content/playe...</td>\n",
       "    </tr>\n",
       "  </tbody>\n",
       "</table>\n",
       "</div>"
      ],
      "text/plain": [
       "          Player       Span  Mat  Inn  NO   Runs    HS    Avg 100  50   0  \\\n",
       "0  SR Tendulkar   1989-2013  200  329  33  15921  248*  53.78  51  68  14   \n",
       "1    RT Ponting   1995-2012  168  287  29  13378   257  51.85  41  62  17   \n",
       "2     JH Kallis   1995-2013  166  280  40  13289   224  55.37  45  58  16   \n",
       "3      R Dravid   1996-2012  164  286  32  13288   270  52.31  36  63   8   \n",
       "4       AN Cook   2006-2018  161  291  16  12472   294  45.35  33  57   9   \n",
       "\n",
       "                                      Player Profile  \n",
       "0  http://stats.espncricinfo.com/ci/content/playe...  \n",
       "1  http://stats.espncricinfo.com/ci/content/playe...  \n",
       "2  http://stats.espncricinfo.com/ci/content/playe...  \n",
       "3  http://stats.espncricinfo.com/ci/content/playe...  \n",
       "4  http://stats.espncricinfo.com/ci/content/playe...  "
      ]
     },
     "execution_count": 13,
     "metadata": {},
     "output_type": "execute_result"
    }
   ],
   "source": [
    "#now it looks good\n",
    "df.head()"
   ]
  },
  {
   "cell_type": "code",
   "execution_count": 14,
   "metadata": {},
   "outputs": [
    {
     "name": "stdout",
     "output_type": "stream",
     "text": [
      "<class 'pandas.core.frame.DataFrame'>\n",
      "RangeIndex: 3001 entries, 0 to 3000\n",
      "Data columns (total 12 columns):\n",
      "Player            3001 non-null object\n",
      "Span              3001 non-null object\n",
      "Mat               3001 non-null int64\n",
      "Inn               3001 non-null object\n",
      "NO                3001 non-null object\n",
      "Runs              3001 non-null object\n",
      "HS                3001 non-null object\n",
      "Avg               3001 non-null object\n",
      "100               3001 non-null object\n",
      "50                3001 non-null object\n",
      "0                 3001 non-null object\n",
      "Player Profile    3001 non-null object\n",
      "dtypes: int64(1), object(11)\n",
      "memory usage: 281.5+ KB\n"
     ]
    }
   ],
   "source": [
    "#now we have to solve the issue of dtypes as we can see that even the columns with integers are have dtype \"object\"\n",
    "\n",
    "df.info()"
   ]
  },
  {
   "cell_type": "code",
   "execution_count": 17,
   "metadata": {},
   "outputs": [
    {
     "data": {
      "text/plain": [
       "array([329, 287, 280, 286, 291, 233, 232, 252, 265, 260, 214, 213, 215,\n",
       "       205, 189, 200, 225, 191, 198, 184, 180, 182, 235, 204, 181, 193,\n",
       "       160, 209, 212, 188, 185, 156, 186, 175, 202, 190, 164, 176, 140,\n",
       "       141, 130, 173, 151, 153, 178, 80, 138, 131, 179, 137, 159, 147,\n",
       "       154, 155, 146, 143, 171, 124, 206, 145, 132, 102, 125, 136, 148,\n",
       "       123, 161, 127, 144, 111, 112, 120, 139, 84, 115, 106, 174, 122, 81,\n",
       "       109, 149, 113, 129, 99, 104, 116, 105, 91, 97, 87, 100, 93, 121,\n",
       "       126, 74, 110, 150, 89, 94, 88, 86, 79, 83, 98, 114, 108, 92, 96,\n",
       "       78, 199, 134, 162, 69, 90, 73, 62, 76, 77, 128, 71, 82, 65, 70,\n",
       "       119, 68, 85, 66, 54, 57, 63, 64, 133, 72, 58, 41, 52, 40, 56, 53,\n",
       "       55, 48, 46, 49, 61, 60, 107, 50, 42, 59, 47, 39, 45, 44, 38, 35,\n",
       "       43, 31, 36, 37, 33, 67, 32, 34, 29, 51, 21, 26, 211, 27, 19, 24,\n",
       "       30, 28, 20, 22, 25, 18, 23, 13, 95, 17, 15, 16, 101, 14, 12, 7, 11,\n",
       "       10, 9, 3, 8, 5, 6, 4, 2, 1, '-'], dtype=object)"
      ]
     },
     "execution_count": 17,
     "metadata": {},
     "output_type": "execute_result"
    }
   ],
   "source": [
    "#checking the unique values \n",
    "df.Inn.unique()"
   ]
  },
  {
   "cell_type": "markdown",
   "metadata": {},
   "source": [
    "After checking the unique values of all colimns having wrong dtypes i got to know that there was \"-\" in all cols which was the reason for wrong dtypes "
   ]
  },
  {
   "cell_type": "code",
   "execution_count": 19,
   "metadata": {},
   "outputs": [],
   "source": [
    "#replacing the \"-\" from whole dataset in order to get correct dtypes\n",
    "df=df.replace(\"-\",0)"
   ]
  },
  {
   "cell_type": "code",
   "execution_count": 20,
   "metadata": {},
   "outputs": [
    {
     "name": "stdout",
     "output_type": "stream",
     "text": [
      "<class 'pandas.core.frame.DataFrame'>\n",
      "RangeIndex: 3001 entries, 0 to 3000\n",
      "Data columns (total 12 columns):\n",
      "Player            3001 non-null object\n",
      "Span              3001 non-null object\n",
      "Mat               3001 non-null int64\n",
      "Inn               3001 non-null int64\n",
      "NO                3001 non-null int64\n",
      "Runs              3001 non-null int64\n",
      "HS                3001 non-null object\n",
      "Avg               3001 non-null float64\n",
      "100               3001 non-null int64\n",
      "50                3001 non-null int64\n",
      "0                 3001 non-null int64\n",
      "Player Profile    3001 non-null object\n",
      "dtypes: float64(1), int64(7), object(4)\n",
      "memory usage: 281.5+ KB\n"
     ]
    }
   ],
   "source": [
    "#now we have the correct dtypes\n",
    "df.info()"
   ]
  },
  {
   "cell_type": "markdown",
   "metadata": {},
   "source": [
    "**Now there are 2 Major tasks that we have to perform :**\n",
    "\n",
    "1. We have to create a function which, when entered a even an incomplete name or a character or even a alphabet,it should      return the info of all players containing that word/character/name \n",
    "\n",
    "2. We have to create another function which will scrape the image of the player from the ESPN profile page of the player just by entering the index no. which we'll obtain from first function\n",
    "\n",
    "NOTE: I'm creating these two as seperate functions just for the sake of your better understanding , you can join them just by placing one function inside the other and create a master function"
   ]
  },
  {
   "cell_type": "code",
   "execution_count": 238,
   "metadata": {},
   "outputs": [],
   "source": [
    "def ICC_Players(name):#we'll name it ICCPlayers\n",
    "    df[\"Player\"]=df[\"Player\"].apply(lambda x:x.lower())  #bringing the player name column to lowercase\n",
    "    df[\"Player\"]=df[\"Player\"].str.replace(\" \",\"\")        #removing whitespaces\n",
    "    name=name.lower()                                   #bringing the entered name to lowercase\n",
    "    name=name.replace(\" \",\"\")                            #removing whitespaces from entered name\n",
    "    ind=df[df[\"Player\"].str.contains(name)].index        #getting the index of row for player info\n",
    "    print(df_copy.iloc[ind])                            #printing the player info using the copy of dataframe named df_copy\n",
    "    \n",
    "   \n",
    "       \n",
    "            \n",
    "    "
   ]
  },
  {
   "cell_type": "code",
   "execution_count": 239,
   "metadata": {},
   "outputs": [
    {
     "name": "stdout",
     "output_type": "stream",
     "text": [
      "      Player       Span  Mat  Inn  NO  Runs    HS    Avg  100  50   0  \\\n",
      "45  V Kohli   2011-2019   84  141  10  7202  254*  54.97   27  22  10   \n",
      "\n",
      "                                       Player Profile  \n",
      "45  http://stats.espncricinfo.com/ci/content/playe...  \n"
     ]
    }
   ],
   "source": [
    "ICC_Players(\"koh\")#working perfectly fine as we entered just koh and it retuned virat kohli!!"
   ]
  },
  {
   "cell_type": "code",
   "execution_count": 242,
   "metadata": {},
   "outputs": [
    {
     "name": "stdout",
     "output_type": "stream",
     "text": [
      "              Player       Span  Mat  Inn  NO   Runs    HS    Avg  100  50  \\\n",
      "0      SR Tendulkar   1989-2013  200  329  33  15921  248*  53.78   51  68   \n",
      "41        G Kirsten   1993-2004  101  176  15   7289   275  45.27   21  34   \n",
      "777      PN Kirsten   1992-1994   12   22   2    626   104  31.30    1   4   \n",
      "1073  Lord Tennyson   1913-1921    9   12   1    345   74*  31.36    0   4   \n",
      "1965      JT Botten   1965-1965    3    6   0     65    33  10.83    0   0   \n",
      "2668   DT Mutendera   2000-2000    1    2   0     10    10   5.00    0   0   \n",
      "\n",
      "       0                                     Player Profile  \n",
      "0     14  http://stats.espncricinfo.com/ci/content/playe...  \n",
      "41    13  http://stats.espncricinfo.com/ci/content/playe...  \n",
      "777    2  http://stats.espncricinfo.com/ci/content/playe...  \n",
      "1073   1  http://stats.espncricinfo.com/ci/content/playe...  \n",
      "1965   2  http://stats.espncricinfo.com/ci/content/playe...  \n",
      "2668   1  http://stats.espncricinfo.com/ci/content/playe...  \n"
     ]
    }
   ],
   "source": [
    "ICC_Players(\"ten\")#trying once again and it works."
   ]
  },
  {
   "cell_type": "markdown",
   "metadata": {},
   "source": [
    "---------------------Now creating 2nd Function------------------------"
   ]
  },
  {
   "cell_type": "code",
   "execution_count": 51,
   "metadata": {},
   "outputs": [],
   "source": [
    "from bs4 import BeautifulSoup #import beautifulsoup for webscraping\n",
    "import requests   #importing requests for placing "
   ]
  },
  {
   "cell_type": "code",
   "execution_count": 248,
   "metadata": {},
   "outputs": [],
   "source": [
    "def Player_Image(ind):      #we're naming it Player_Image and we'll take index as input\n",
    "    base_url=df[\"Player Profile\"].iloc[ind]  #specifying the base url for webscraping  \n",
    "    response=requests.get(base_url)      #requesting for scraping the website/webpage\n",
    "    html=response.content                #extracting the html \n",
    "    soup=BeautifulSoup(html,\"lxml\")       #applying beautiful soup and parsing using lxml parser\n",
    "    links_list=[]                       #created an empty list\n",
    "    for link[0] in soup.find_all(\"img\"):   #applying for loop to obtain the first img tag\n",
    "        src=link[0].get(\"src\")             #getting src link from first img tag\n",
    "        links_list.append(src)             #appending results in links_list\n",
    "        Img=links_list[0]                  #storing the first link in the link_list to Img variable\n",
    "    print(Img)                             # printing img as an output\n",
    "    \n",
    "    \n",
    "        \n",
    "    \n",
    "    \n",
    "    \n",
    "    "
   ]
  },
  {
   "cell_type": "code",
   "execution_count": 252,
   "metadata": {
    "scrolled": true
   },
   "outputs": [
    {
     "name": "stdout",
     "output_type": "stream",
     "text": [
      "https://www.espncricinfo.com/inline/content/image/1183835.html?alt=1\n"
     ]
    }
   ],
   "source": [
    "Player_Image(45) #we got 45 as the index no of virat kohli when we used ICC_Players function "
   ]
  },
  {
   "cell_type": "markdown",
   "metadata": {},
   "source": [
    "**Note:-Either you can just click on this link to see the image or else if you want to see the image in this jupyter notebook the you can follow these steps**"
   ]
  },
  {
   "cell_type": "code",
   "execution_count": 253,
   "metadata": {},
   "outputs": [],
   "source": [
    "from IPython.display import Image #import image\n",
    "from IPython.core.display import HTML  #import  html"
   ]
  },
  {
   "cell_type": "code",
   "execution_count": 254,
   "metadata": {},
   "outputs": [
    {
     "data": {
      "text/html": [
       "<img src=\"https://www.espncricinfo.com/inline/content/image/1183835.html?alt=1\"/>"
      ],
      "text/plain": [
       "<IPython.core.display.Image object>"
      ]
     },
     "execution_count": 254,
     "metadata": {},
     "output_type": "execute_result"
    }
   ],
   "source": [
    "Image(url=\"https://www.espncricinfo.com/inline/content/image/1183835.html?alt=1\") #copy & paste the url "
   ]
  },
  {
   "cell_type": "markdown",
   "metadata": {},
   "source": [
    "***So both of our functions are working perfectly fine so perform them and keep learning!!***"
   ]
  },
  {
   "cell_type": "code",
   "execution_count": null,
   "metadata": {},
   "outputs": [],
   "source": []
  }
 ],
 "metadata": {
  "kernelspec": {
   "display_name": "Python 3",
   "language": "python",
   "name": "python3"
  },
  "language_info": {
   "codemirror_mode": {
    "name": "ipython",
    "version": 3
   },
   "file_extension": ".py",
   "mimetype": "text/x-python",
   "name": "python",
   "nbconvert_exporter": "python",
   "pygments_lexer": "ipython3",
   "version": "3.7.4"
  }
 },
 "nbformat": 4,
 "nbformat_minor": 2
}
